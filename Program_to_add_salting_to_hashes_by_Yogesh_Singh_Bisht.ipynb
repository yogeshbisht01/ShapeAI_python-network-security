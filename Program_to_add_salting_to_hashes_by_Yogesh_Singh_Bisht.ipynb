{
  "nbformat": 4,
  "nbformat_minor": 0,
  "metadata": {
    "colab": {
      "name": "Program to add salting to hashes by Yogesh Singh Bisht.ipynb",
      "provenance": [],
      "collapsed_sections": []
    },
    "kernelspec": {
      "name": "python3",
      "display_name": "Python 3"
    },
    "language_info": {
      "name": "python"
    }
  },
  "cells": [
    {
      "cell_type": "code",
      "metadata": {
        "id": "2RwjP-_EZO_J"
      },
      "source": [
        "import hashlib\n",
        "\n",
        "mystring = input('Enter string to hash: ')\n",
        "salt = input('Add salt: ') \n",
        "salted_string= mystring + salt\n",
        "print('salted hash is: ') \n",
        "hashlib.md5(salted_string.encode()).hexdigest()"
      ],
      "execution_count": null,
      "outputs": []
    }
  ]
}