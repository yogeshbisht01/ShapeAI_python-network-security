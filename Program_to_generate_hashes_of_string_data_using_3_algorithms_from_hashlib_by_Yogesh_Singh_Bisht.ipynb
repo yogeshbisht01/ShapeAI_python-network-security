{
  "nbformat": 4,
  "nbformat_minor": 0,
  "metadata": {
    "colab": {
      "name": "Program to generate hashes of string data using 3 algorithms from hashlib by Yogesh Singh Bisht.ipynb",
      "provenance": [],
      "collapsed_sections": []
    },
    "kernelspec": {
      "name": "python3",
      "display_name": "Python 3"
    },
    "language_info": {
      "name": "python"
    }
  },
  "cells": [
    {
      "cell_type": "code",
      "metadata": {
        "id": "ajH_I2zUQ-8_"
      },
      "source": [
        "import hashlib\n",
        "\n",
        "mystring = input('Enter string to hash: ')\n",
        "hash_obj = hashlib.sha1(mystring.encode())\n",
        "print('\\nHash in sha1: '+hash_obj.hexdigest())\n",
        "\n",
        "m = hashlib.sha256(mystring.encode())\n",
        "m.hexdigest()\n",
        "print('Hash in sha256: '+m.hexdigest())\n",
        "\n",
        "x = hashlib.new('ripemd160',mystring.encode())\n",
        "print(\"Hash in ripemd160: \"+ x.hexdigest())"
      ],
      "execution_count": null,
      "outputs": []
    }
  ]
}