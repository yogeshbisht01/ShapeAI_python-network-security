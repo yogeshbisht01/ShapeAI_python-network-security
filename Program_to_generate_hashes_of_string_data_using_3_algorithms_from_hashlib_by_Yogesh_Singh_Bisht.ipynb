{
  "nbformat": 4,
  "nbformat_minor": 0,
  "metadata": {
    "colab": {
      "name": "Program to generate hashes of string data using 3 algorithms from hashlib by Yogesh Singh Bisht.ipynb",
      "provenance": [],
      "collapsed_sections": []
    },
    "kernelspec": {
      "name": "python3",
      "display_name": "Python 3"
    },
    "language_info": {
      "name": "python"
    }
  },
  "cells": [
    {
      "cell_type": "code",
      "metadata": {
        "colab": {
          "base_uri": "https://localhost:8080/"
        },
        "id": "ajH_I2zUQ-8_",
        "outputId": "0b01e5e6-7585-49d6-eb79-4d31bc1fa1e9"
      },
      "source": [
        "import hashlib\n",
        "\n",
        "mystring = input('Enter string to hash: ')\n",
        "hash_obj = hashlib.sha1(mystring.encode())\n",
        "print('\\nHash in sha1: '+hash_obj.hexdigest())\n",
        "\n",
        "m = hashlib.sha256(mystring.encode())\n",
        "m.hexdigest()\n",
        "print('Hash in sha256: '+m.hexdigest())\n",
        "\n",
        "x = hashlib.new('ripemd160',mystring.encode())\n",
        "print(\"Hash in ripemd160: \"+ x.hexdigest())"
      ],
      "execution_count": 27,
      "outputs": [
        {
          "output_type": "stream",
          "text": [
            "Enter string to hash: cat\n",
            "\n",
            "Hash in sha1: 9d989e8d27dc9e0ec3389fc855f142c3d40f0c50\n",
            "Hash in sha256: 77af778b51abd4a3c51c5ddd97204a9c3ae614ebccb75a606c3b6865aed6744e\n",
            "Hash in ripemd160: f5edf46a44879ab723e6e304f90a3cc2f04c1db2\n"
          ],
          "name": "stdout"
        }
      ]
    }
  ]
}