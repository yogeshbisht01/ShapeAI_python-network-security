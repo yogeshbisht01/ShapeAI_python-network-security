{
  "nbformat": 4,
  "nbformat_minor": 0,
  "metadata": {
    "colab": {
      "name": "Program to generate MD5 of string data in python by Yogesh Singh Bisht.ipynb",
      "provenance": [],
      "collapsed_sections": []
    },
    "kernelspec": {
      "name": "python3",
      "display_name": "Python 3"
    },
    "language_info": {
      "name": "python"
    }
  },
  "cells": [
    {
      "cell_type": "code",
      "metadata": {
        "id": "fXRi6I8SbFpY"
      },
      "source": [
        "import hashlib\n",
        "\n",
        "mystring = input('Enter string to hash: ')\n",
        "hash_obj = hashlib.md5(mystring.encode())\n",
        "print('Hash in MD5: '+ hash_obj.hexdigest())\n",
        "\n",
        "\n",
        "\n",
        "\n"
      ],
      "execution_count": null,
      "outputs": []
    }
  ]
}