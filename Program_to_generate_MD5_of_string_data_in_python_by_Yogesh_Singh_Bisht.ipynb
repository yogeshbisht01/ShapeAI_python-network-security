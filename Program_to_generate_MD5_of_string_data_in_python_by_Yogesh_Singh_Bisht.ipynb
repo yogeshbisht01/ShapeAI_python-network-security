{
  "nbformat": 4,
  "nbformat_minor": 0,
  "metadata": {
    "colab": {
      "name": "Program to generate MD5 of string data in python by Yogesh Singh Bisht.ipynb",
      "provenance": [],
      "collapsed_sections": []
    },
    "kernelspec": {
      "name": "python3",
      "display_name": "Python 3"
    },
    "language_info": {
      "name": "python"
    }
  },
  "cells": [
    {
      "cell_type": "code",
      "metadata": {
        "colab": {
          "base_uri": "https://localhost:8080/"
        },
        "id": "fXRi6I8SbFpY",
        "outputId": "8fca38fc-9e0f-46de-f641-976ee1edaab0"
      },
      "source": [
        "import hashlib\n",
        "\n",
        "mystring = input('Enter string to hash: ')\n",
        "hash_obj = hashlib.md5(mystring.encode())\n",
        "print('Hash in MD5: '+ hash_obj.hexdigest())\n",
        "\n",
        "\n",
        "\n",
        "\n"
      ],
      "execution_count": 34,
      "outputs": [
        {
          "output_type": "stream",
          "text": [
            "Enter string to hash: cat\n",
            "Hash in MD5: d077f244def8a70e5ea758bd8352fcd8\n"
          ],
          "name": "stdout"
        }
      ]
    }
  ]
}